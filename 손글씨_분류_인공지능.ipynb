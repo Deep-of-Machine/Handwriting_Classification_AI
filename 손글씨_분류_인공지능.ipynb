{
  "nbformat": 4,
  "nbformat_minor": 0,
  "metadata": {
    "colab": {
      "name": "손글씨 분류 인공지능.ipynb",
      "provenance": [],
      "collapsed_sections": [],
      "authorship_tag": "ABX9TyObM+O3Vq1yavzDcdA8RqsV",
      "include_colab_link": true
    },
    "kernelspec": {
      "name": "python3",
      "display_name": "Python 3"
    }
  },
  "cells": [
    {
      "cell_type": "markdown",
      "metadata": {
        "id": "view-in-github",
        "colab_type": "text"
      },
      "source": [
        "<a href=\"https://colab.research.google.com/github/Deep-of-Machine/Handwriting_Classification_AI/blob/main/%EC%86%90%EA%B8%80%EC%94%A8_%EB%B6%84%EB%A5%98_%EC%9D%B8%EA%B3%B5%EC%A7%80%EB%8A%A5.ipynb\" target=\"_parent\"><img src=\"https://colab.research.google.com/assets/colab-badge.svg\" alt=\"Open In Colab\"/></a>"
      ]
    },
    {
      "cell_type": "code",
      "metadata": {
        "id": "cKkdV10A7BHD"
      },
      "source": [
        "import sys\n",
        "import gzip\n",
        "import shutil\n",
        "import os\n",
        "\n",
        "#압축 풀기 코드\n",
        "\n",
        "if (sys.version_info > (3, 0)):\n",
        "    writemode = 'wb'\n",
        "else:\n",
        "    writemode = 'w'\n",
        "\n",
        "zipped_mnist = [f for f in os.listdir('/content') if f.endswith('ubyte.gz')]\n",
        "for z in zipped_mnist:\n",
        "    with gzip.GzipFile(z, mode='rb') as decompressed, open(z[:-3], writemode) as outfile:\n",
        "        outfile.write(decompressed.read())\n"
      ],
      "execution_count": null,
      "outputs": []
    },
    {
      "cell_type": "code",
      "metadata": {
        "id": "ZqtMyyKx-AKS"
      },
      "source": [
        "import os\n",
        "import struct\n",
        "import numpy as np\n",
        " \n",
        "def load_mnist(path, kind='train'):\n",
        "    \"\"\"`path`에서 MNIST 데이터 불러오기\"\"\"\n",
        "    labels_path = os.path.join(path, '%s-labels-idx1-ubyte' % kind)\n",
        "    images_path = os.path.join(path, '%s-images-idx3-ubyte' % kind)\n",
        "        \n",
        "    with open(labels_path, 'rb') as lbpath:\n",
        "        magic, n = struct.unpack('>II', lbpath.read(8))\n",
        "        labels = np.fromfile(lbpath, dtype=np.uint8)\n",
        "\n",
        "    with open(images_path, 'rb') as imgpath:\n",
        "        magic, num, rows, cols = struct.unpack(\">IIII\", imgpath.read(16))\n",
        "        images = np.fromfile(imgpath, dtype=np.uint8).reshape(len(labels), 784)\n",
        "        images = ((images / 255.) - .5) * 2\n",
        " \n",
        "    return images, labels\n"
      ],
      "execution_count": null,
      "outputs": []
    },
    {
      "cell_type": "code",
      "metadata": {
        "id": "Ro1_Pzi_-64J",
        "outputId": "3d909e74-6e77-48db-bad4-750fc436fc8d",
        "colab": {
          "base_uri": "https://localhost:8080/",
          "height": 370
        }
      },
      "source": [
        "X_train, y_train = load_mnist('', kind='train')\n",
        "print('행: %d, 열: %d' % (X_train.shape[0], X_train.shape[1]))\n",
        "\n",
        "X_test, y_test = load_mnist('', kind='t10k')\n",
        "print('행: %d, 열: %d' % (X_test.shape[0], X_test.shape[1]))"
      ],
      "execution_count": null,
      "outputs": [
        {
          "output_type": "error",
          "ename": "error",
          "evalue": "ignored",
          "traceback": [
            "\u001b[0;31m---------------------------------------------------------------------------\u001b[0m",
            "\u001b[0;31merror\u001b[0m                                     Traceback (most recent call last)",
            "\u001b[0;32m<ipython-input-3-a6522b04998a>\u001b[0m in \u001b[0;36m<module>\u001b[0;34m()\u001b[0m\n\u001b[0;32m----> 1\u001b[0;31m \u001b[0mX_train\u001b[0m\u001b[0;34m,\u001b[0m \u001b[0my_train\u001b[0m \u001b[0;34m=\u001b[0m \u001b[0mload_mnist\u001b[0m\u001b[0;34m(\u001b[0m\u001b[0;34m''\u001b[0m\u001b[0;34m,\u001b[0m \u001b[0mkind\u001b[0m\u001b[0;34m=\u001b[0m\u001b[0;34m'train'\u001b[0m\u001b[0;34m)\u001b[0m\u001b[0;34m\u001b[0m\u001b[0;34m\u001b[0m\u001b[0m\n\u001b[0m\u001b[1;32m      2\u001b[0m \u001b[0mprint\u001b[0m\u001b[0;34m(\u001b[0m\u001b[0;34m'행: %d, 열: %d'\u001b[0m \u001b[0;34m%\u001b[0m \u001b[0;34m(\u001b[0m\u001b[0mX_train\u001b[0m\u001b[0;34m.\u001b[0m\u001b[0mshape\u001b[0m\u001b[0;34m[\u001b[0m\u001b[0;36m0\u001b[0m\u001b[0;34m]\u001b[0m\u001b[0;34m,\u001b[0m \u001b[0mX_train\u001b[0m\u001b[0;34m.\u001b[0m\u001b[0mshape\u001b[0m\u001b[0;34m[\u001b[0m\u001b[0;36m1\u001b[0m\u001b[0;34m]\u001b[0m\u001b[0;34m)\u001b[0m\u001b[0;34m)\u001b[0m\u001b[0;34m\u001b[0m\u001b[0;34m\u001b[0m\u001b[0m\n\u001b[1;32m      3\u001b[0m \u001b[0;34m\u001b[0m\u001b[0m\n\u001b[1;32m      4\u001b[0m \u001b[0mX_test\u001b[0m\u001b[0;34m,\u001b[0m \u001b[0my_test\u001b[0m \u001b[0;34m=\u001b[0m \u001b[0mload_mnist\u001b[0m\u001b[0;34m(\u001b[0m\u001b[0;34m''\u001b[0m\u001b[0;34m,\u001b[0m \u001b[0mkind\u001b[0m\u001b[0;34m=\u001b[0m\u001b[0;34m't10k'\u001b[0m\u001b[0;34m)\u001b[0m\u001b[0;34m\u001b[0m\u001b[0;34m\u001b[0m\u001b[0m\n\u001b[1;32m      5\u001b[0m \u001b[0mprint\u001b[0m\u001b[0;34m(\u001b[0m\u001b[0;34m'행: %d, 열: %d'\u001b[0m \u001b[0;34m%\u001b[0m \u001b[0;34m(\u001b[0m\u001b[0mX_test\u001b[0m\u001b[0;34m.\u001b[0m\u001b[0mshape\u001b[0m\u001b[0;34m[\u001b[0m\u001b[0;36m0\u001b[0m\u001b[0;34m]\u001b[0m\u001b[0;34m,\u001b[0m \u001b[0mX_test\u001b[0m\u001b[0;34m.\u001b[0m\u001b[0mshape\u001b[0m\u001b[0;34m[\u001b[0m\u001b[0;36m1\u001b[0m\u001b[0;34m]\u001b[0m\u001b[0;34m)\u001b[0m\u001b[0;34m)\u001b[0m\u001b[0;34m\u001b[0m\u001b[0;34m\u001b[0m\u001b[0m\n",
            "\u001b[0;32m<ipython-input-2-14cd275b8c3a>\u001b[0m in \u001b[0;36mload_mnist\u001b[0;34m(path, kind)\u001b[0m\n\u001b[1;32m     13\u001b[0m \u001b[0;34m\u001b[0m\u001b[0m\n\u001b[1;32m     14\u001b[0m     \u001b[0;32mwith\u001b[0m \u001b[0mopen\u001b[0m\u001b[0;34m(\u001b[0m\u001b[0mimages_path\u001b[0m\u001b[0;34m,\u001b[0m \u001b[0;34m'rb'\u001b[0m\u001b[0;34m)\u001b[0m \u001b[0;32mas\u001b[0m \u001b[0mimgpath\u001b[0m\u001b[0;34m:\u001b[0m\u001b[0;34m\u001b[0m\u001b[0;34m\u001b[0m\u001b[0m\n\u001b[0;32m---> 15\u001b[0;31m         \u001b[0mmagic\u001b[0m\u001b[0;34m,\u001b[0m \u001b[0mnum\u001b[0m\u001b[0;34m,\u001b[0m \u001b[0mrows\u001b[0m\u001b[0;34m,\u001b[0m \u001b[0mcols\u001b[0m \u001b[0;34m=\u001b[0m \u001b[0mstruct\u001b[0m\u001b[0;34m.\u001b[0m\u001b[0munpack\u001b[0m\u001b[0;34m(\u001b[0m\u001b[0;34m\">IIII\"\u001b[0m\u001b[0;34m,\u001b[0m \u001b[0mimgpath\u001b[0m\u001b[0;34m.\u001b[0m\u001b[0mread\u001b[0m\u001b[0;34m(\u001b[0m\u001b[0;36m16\u001b[0m\u001b[0;34m)\u001b[0m\u001b[0;34m)\u001b[0m\u001b[0;34m\u001b[0m\u001b[0;34m\u001b[0m\u001b[0m\n\u001b[0m\u001b[1;32m     16\u001b[0m         \u001b[0mimages\u001b[0m \u001b[0;34m=\u001b[0m \u001b[0mnp\u001b[0m\u001b[0;34m.\u001b[0m\u001b[0mfromfile\u001b[0m\u001b[0;34m(\u001b[0m\u001b[0mimgpath\u001b[0m\u001b[0;34m,\u001b[0m \u001b[0mdtype\u001b[0m\u001b[0;34m=\u001b[0m\u001b[0mnp\u001b[0m\u001b[0;34m.\u001b[0m\u001b[0muint8\u001b[0m\u001b[0;34m)\u001b[0m\u001b[0;34m.\u001b[0m\u001b[0mreshape\u001b[0m\u001b[0;34m(\u001b[0m\u001b[0mlen\u001b[0m\u001b[0;34m(\u001b[0m\u001b[0mlabels\u001b[0m\u001b[0;34m)\u001b[0m\u001b[0;34m,\u001b[0m \u001b[0;36m784\u001b[0m\u001b[0;34m)\u001b[0m\u001b[0;34m\u001b[0m\u001b[0;34m\u001b[0m\u001b[0m\n\u001b[1;32m     17\u001b[0m         \u001b[0mimages\u001b[0m \u001b[0;34m=\u001b[0m \u001b[0;34m(\u001b[0m\u001b[0;34m(\u001b[0m\u001b[0mimages\u001b[0m \u001b[0;34m/\u001b[0m \u001b[0;36m255.\u001b[0m\u001b[0;34m)\u001b[0m \u001b[0;34m-\u001b[0m \u001b[0;36m.5\u001b[0m\u001b[0;34m)\u001b[0m \u001b[0;34m*\u001b[0m \u001b[0;36m2\u001b[0m\u001b[0;34m\u001b[0m\u001b[0;34m\u001b[0m\u001b[0m\n",
            "\u001b[0;31merror\u001b[0m: unpack requires a buffer of 16 bytes"
          ]
        }
      ]
    },
    {
      "cell_type": "code",
      "metadata": {
        "id": "infsuxN8AlqN",
        "outputId": "f11ac55a-ea97-4544-e027-01a4105c7998",
        "colab": {
          "base_uri": "https://localhost:8080/",
          "height": 224
        }
      },
      "source": [
        "import matplotlib.pyplot as plt\n",
        "fig, ax = plt.subplots(nrows=2, ncols=5, sharex=True, sharey=True,)\n",
        "ax = ax.flatten()\n",
        "for i in range(10):\n",
        "    img = X_train[y_train == i][i].reshape(28, 28)\n",
        "    ax[i].imshow(img, cmap='Greys')\n",
        "\n",
        "ax[0].set_xticks([])\n",
        "ax[0].set_yticks([])\n",
        "plt.tight_layout()\n",
        "plt.show()"
      ],
      "execution_count": null,
      "outputs": [
        {
          "output_type": "display_data",
          "data": {
            "image/png": "[encoded data removed]",
            "text/plain": [
              "<Figure size 432x288 with 10 Axes>"
            ]
          },
          "metadata": {
            "tags": []
          }
        }
      ]
    },
    {
      "cell_type": "code",
      "metadata": {
        "id": "BxCosuc2AqBa",
        "outputId": "8426bebb-7721-45c9-9d79-8446589ce8d2",
        "colab": {
          "base_uri": "https://localhost:8080/",
          "height": 297
        }
      },
      "source": [
        "import matplotlib.pyplot as plt\n",
        "fig, ax = plt.subplots(nrows=5, ncols=5, sharex=True, sharey=True,)\n",
        "ax = ax.flatten()\n",
        "for i in range(25):\n",
        "    img = X_train[y_train == 7][i].reshape(28, 28)\n",
        "    ax[i].imshow(img, cmap='Greys')\n",
        "\n",
        "ax[0].set_xticks([])\n",
        "ax[0].set_yticks([])\n",
        "plt.tight_layout()\n",
        "plt.show()"
      ],
      "execution_count": null,
      "outputs": [
        {
          "output_type": "display_data",
          "data": {
            "image/png": "[encoded data removed]",
            "text/plain": [
              "<Figure size 432x288 with 25 Axes>"
            ]
          },
          "metadata": {
            "tags": []
          }
        }
      ]
    },
    {
      "cell_type": "code",
      "metadata": {
        "id": "D4htZ9KxA72E",
        "outputId": "af6dfcd9-6a31-4f71-eea2-90640bb44c38",
        "colab": {
          "base_uri": "https://localhost:8080/",
          "height": 124
        }
      },
      "source": [
        "import tensorflow as tf\n",
        "np.random.seed(123)\n",
        "y_train_onehot = tf.keras.utils.to_categorical(y_train)\n",
        " \n",
        "print('처음 3개 레이블: ', y_train[:3])\n",
        "print('\\n처음 3개 레이블 (원-핫):\\n', y_train_onehot[:3])"
      ],
      "execution_count": null,
      "outputs": [
        {
          "output_type": "stream",
          "text": [
            "처음 3개 레이블:  [5 0 4]\n",
            "\n",
            "처음 3개 레이블 (원-핫):\n",
            " [[0. 0. 0. 0. 0. 1. 0. 0. 0. 0.]\n",
            " [1. 0. 0. 0. 0. 0. 0. 0. 0. 0.]\n",
            " [0. 0. 0. 0. 1. 0. 0. 0. 0. 0.]]\n"
          ],
          "name": "stdout"
        }
      ]
    },
    {
      "cell_type": "code",
      "metadata": {
        "id": "mxCimjPIBl8P",
        "outputId": "e73cf3e0-a051-476f-c16f-0c6c904ddd68",
        "colab": {
          "base_uri": "https://localhost:8080/",
          "height": 266
        }
      },
      "source": [
        "model = tf.keras.models.Sequential()\n",
        "\n",
        "model.add(\n",
        "    tf.keras.layers.Dense(\n",
        "        units=50,    \n",
        "        input_dim=X_train.shape[1],\n",
        "        kernel_initializer='glorot_uniform',\n",
        "        bias_initializer='zeros',\n",
        "        activation='tanh'))\n",
        "\n",
        "model.add(\n",
        "    tf.keras.layers.Dense(\n",
        "        units=50,    \n",
        "        input_dim=50,\n",
        "        kernel_initializer='glorot_uniform',\n",
        "        bias_initializer='zeros',\n",
        "        activation='tanh'))\n",
        "\n",
        "model.add(\n",
        "    tf.keras.layers.Dense(\n",
        "        units=y_train_onehot.shape[1],    \n",
        "        input_dim=50,\n",
        "        kernel_initializer='glorot_uniform',\n",
        "        bias_initializer='zeros',\n",
        "        activation='softmax'))\n",
        "model.summary()"
      ],
      "execution_count": null,
      "outputs": [
        {
          "output_type": "stream",
          "text": [
            "Model: \"sequential\"\n",
            "_________________________________________________________________\n",
            "Layer (type)                 Output Shape              Param #   \n",
            "=================================================================\n",
            "dense (Dense)                (None, 50)                39250     \n",
            "_________________________________________________________________\n",
            "dense_1 (Dense)              (None, 50)                2550      \n",
            "_________________________________________________________________\n",
            "dense_2 (Dense)              (None, 10)                510       \n",
            "=================================================================\n",
            "Total params: 42,310\n",
            "Trainable params: 42,310\n",
            "Non-trainable params: 0\n",
            "_________________________________________________________________\n"
          ],
          "name": "stdout"
        }
      ]
    },
    {
      "cell_type": "code",
      "metadata": {
        "id": "oklgvohOB6JY",
        "outputId": "f6e45ab8-d18a-47dd-fc23-1e38621f4dbe",
        "colab": {
          "base_uri": "https://localhost:8080/",
          "height": 1000
        }
      },
      "source": [
        "sgd_optimizer = tf.keras.optimizers.SGD(lr=0.001, decay=1e-7, momentum=.9)\n",
        "\n",
        "model.compile(optimizer=sgd_optimizer, loss='categorical_crossentropy')\n",
        "\n",
        "history = model.fit(X_train, y_train_onehot,\n",
        "                    batch_size=64, epochs=50,\n",
        "                    verbose=1,\n",
        "                    validation_split=0.1)"
      ],
      "execution_count": null,
      "outputs": [
        {
          "output_type": "stream",
          "text": [
            "Epoch 1/50\n",
            "844/844 [==============================] - 2s 3ms/step - loss: 0.8470 - val_loss: 0.3973\n",
            "Epoch 2/50\n",
            "844/844 [==============================] - 2s 2ms/step - loss: 0.3964 - val_loss: 0.2934\n",
            "Epoch 3/50\n",
            "844/844 [==============================] - 2s 2ms/step - loss: 0.3243 - val_loss: 0.2510\n",
            "Epoch 4/50\n",
            "844/844 [==============================] - 2s 2ms/step - loss: 0.2871 - val_loss: 0.2289\n",
            "Epoch 5/50\n",
            "844/844 [==============================] - 2s 2ms/step - loss: 0.2604 - val_loss: 0.2074\n",
            "Epoch 6/50\n",
            "844/844 [==============================] - 2s 2ms/step - loss: 0.2401 - val_loss: 0.1920\n",
            "Epoch 7/50\n",
            "844/844 [==============================] - 2s 2ms/step - loss: 0.2236 - val_loss: 0.1788\n",
            "Epoch 8/50\n",
            "844/844 [==============================] - 2s 2ms/step - loss: 0.2089 - val_loss: 0.1729\n",
            "Epoch 9/50\n",
            "844/844 [==============================] - 2s 2ms/step - loss: 0.1968 - val_loss: 0.1612\n",
            "Epoch 10/50\n",
            "844/844 [==============================] - 2s 2ms/step - loss: 0.1856 - val_loss: 0.1523\n",
            "Epoch 11/50\n",
            "844/844 [==============================] - 2s 2ms/step - loss: 0.1755 - val_loss: 0.1492\n",
            "Epoch 12/50\n",
            "844/844 [==============================] - 2s 2ms/step - loss: 0.1663 - val_loss: 0.1391\n",
            "Epoch 13/50\n",
            "844/844 [==============================] - 2s 2ms/step - loss: 0.1595 - val_loss: 0.1342\n",
            "Epoch 14/50\n",
            "844/844 [==============================] - 2s 2ms/step - loss: 0.1521 - val_loss: 0.1291\n",
            "Epoch 15/50\n",
            "844/844 [==============================] - 2s 2ms/step - loss: 0.1452 - val_loss: 0.1280\n",
            "Epoch 16/50\n",
            "844/844 [==============================] - 2s 3ms/step - loss: 0.1395 - val_loss: 0.1211\n",
            "Epoch 17/50\n",
            "844/844 [==============================] - 2s 2ms/step - loss: 0.1334 - val_loss: 0.1192\n",
            "Epoch 18/50\n",
            "844/844 [==============================] - 2s 2ms/step - loss: 0.1287 - val_loss: 0.1162\n",
            "Epoch 19/50\n",
            "844/844 [==============================] - 2s 2ms/step - loss: 0.1235 - val_loss: 0.1152\n",
            "Epoch 20/50\n",
            "844/844 [==============================] - 2s 2ms/step - loss: 0.1194 - val_loss: 0.1114\n",
            "Epoch 21/50\n",
            "844/844 [==============================] - 2s 2ms/step - loss: 0.1153 - val_loss: 0.1074\n",
            "Epoch 22/50\n",
            "844/844 [==============================] - 2s 2ms/step - loss: 0.1114 - val_loss: 0.1066\n",
            "Epoch 23/50\n",
            "844/844 [==============================] - 2s 2ms/step - loss: 0.1081 - val_loss: 0.1086\n",
            "Epoch 24/50\n",
            "844/844 [==============================] - 2s 2ms/step - loss: 0.1043 - val_loss: 0.1043\n",
            "Epoch 25/50\n",
            "844/844 [==============================] - 2s 2ms/step - loss: 0.1014 - val_loss: 0.1012\n",
            "Epoch 26/50\n",
            "844/844 [==============================] - 2s 2ms/step - loss: 0.0977 - val_loss: 0.1015\n",
            "Epoch 27/50\n",
            "844/844 [==============================] - 2s 2ms/step - loss: 0.0948 - val_loss: 0.0994\n",
            "Epoch 28/50\n",
            "844/844 [==============================] - 3s 3ms/step - loss: 0.0916 - val_loss: 0.1001\n",
            "Epoch 29/50\n",
            "844/844 [==============================] - 3s 3ms/step - loss: 0.0892 - val_loss: 0.0952\n",
            "Epoch 30/50\n",
            "844/844 [==============================] - 2s 3ms/step - loss: 0.0870 - val_loss: 0.0961\n",
            "Epoch 31/50\n",
            "844/844 [==============================] - 2s 2ms/step - loss: 0.0841 - val_loss: 0.0980\n",
            "Epoch 32/50\n",
            "844/844 [==============================] - 2s 2ms/step - loss: 0.0821 - val_loss: 0.0924\n",
            "Epoch 33/50\n",
            "844/844 [==============================] - 2s 2ms/step - loss: 0.0800 - val_loss: 0.0923\n",
            "Epoch 34/50\n",
            "844/844 [==============================] - 2s 2ms/step - loss: 0.0776 - val_loss: 0.0906\n",
            "Epoch 35/50\n",
            "844/844 [==============================] - 2s 2ms/step - loss: 0.0758 - val_loss: 0.0905\n",
            "Epoch 36/50\n",
            "844/844 [==============================] - 2s 2ms/step - loss: 0.0737 - val_loss: 0.0913\n",
            "Epoch 37/50\n",
            "844/844 [==============================] - 2s 2ms/step - loss: 0.0723 - val_loss: 0.0893\n",
            "Epoch 38/50\n",
            "844/844 [==============================] - 2s 2ms/step - loss: 0.0704 - val_loss: 0.0868\n",
            "Epoch 39/50\n",
            "844/844 [==============================] - 2s 2ms/step - loss: 0.0687 - val_loss: 0.0908\n",
            "Epoch 40/50\n",
            "844/844 [==============================] - 2s 2ms/step - loss: 0.0669 - val_loss: 0.0871\n",
            "Epoch 41/50\n",
            "844/844 [==============================] - 2s 2ms/step - loss: 0.0656 - val_loss: 0.0871\n",
            "Epoch 42/50\n",
            "844/844 [==============================] - 2s 2ms/step - loss: 0.0638 - val_loss: 0.0863\n",
            "Epoch 43/50\n",
            "844/844 [==============================] - 2s 2ms/step - loss: 0.0625 - val_loss: 0.0856\n",
            "Epoch 44/50\n",
            "844/844 [==============================] - 2s 2ms/step - loss: 0.0606 - val_loss: 0.0855\n",
            "Epoch 45/50\n",
            "844/844 [==============================] - 2s 3ms/step - loss: 0.0598 - val_loss: 0.0873\n",
            "Epoch 46/50\n",
            "844/844 [==============================] - 2s 2ms/step - loss: 0.0584 - val_loss: 0.0850\n",
            "Epoch 47/50\n",
            "844/844 [==============================] - 2s 2ms/step - loss: 0.0569 - val_loss: 0.0855\n",
            "Epoch 48/50\n",
            "844/844 [==============================] - 2s 2ms/step - loss: 0.0563 - val_loss: 0.0840\n",
            "Epoch 49/50\n",
            "844/844 [==============================] - 2s 2ms/step - loss: 0.0545 - val_loss: 0.0857\n",
            "Epoch 50/50\n",
            "844/844 [==============================] - 2s 2ms/step - loss: 0.0532 - val_loss: 0.0854\n"
          ],
          "name": "stdout"
        }
      ]
    },
    {
      "cell_type": "code",
      "metadata": {
        "id": "4qfXV_79EAJk",
        "outputId": "4d992215-0f93-4b3c-eda0-1c496be8bad8",
        "colab": {
          "base_uri": "https://localhost:8080/",
          "height": 126
        }
      },
      "source": [
        "predictions = model.predict_classes(X_train,  verbose=0)\n",
        "correct_preds = np.sum(y_train == predictions, axis=0) \n",
        "train_acc = correct_preds / y_train.shape[0]\n",
        "\n",
        "print('처음 3개 예측: ', predictions[:3])\n",
        "print('훈련 정확도: %.2f%%' % (train_acc * 100))"
      ],
      "execution_count": null,
      "outputs": [
        {
          "output_type": "stream",
          "text": [
            "WARNING:tensorflow:From <ipython-input-14-2bbcb0a2b0de>:1: Sequential.predict_classes (from tensorflow.python.keras.engine.sequential) is deprecated and will be removed after 2021-01-01.\n",
            "Instructions for updating:\n",
            "Please use instead:* `np.argmax(model.predict(x), axis=-1)`,   if your model does multi-class classification   (e.g. if it uses a `softmax` last-layer activation).* `(model.predict(x) > 0.5).astype(\"int32\")`,   if your model does binary classification   (e.g. if it uses a `sigmoid` last-layer activation).\n",
            "처음 3개 예측:  [5 0 4]\n",
            "훈련 정확도: 98.60%\n"
          ],
          "name": "stdout"
        }
      ]
    },
    {
      "cell_type": "code",
      "metadata": {
        "id": "g2wEABj7EFrr",
        "outputId": "58f9ee3d-759c-4822-d7c4-afacf3adb465",
        "colab": {
          "base_uri": "https://localhost:8080/",
          "height": 52
        }
      },
      "source": [
        "predictions = model.predict_classes(X_test,  verbose=0)\n",
        "correct_preds = np.sum(y_test == predictions, axis=0) \n",
        "train_acc = correct_preds / y_test.shape[0]\n",
        "\n",
        "print('처음 3개 예측: ', predictions[:3])\n",
        "print('훈련 정확도: %.2f%%' % (train_acc * 100))"
      ],
      "execution_count": null,
      "outputs": [
        {
          "output_type": "stream",
          "text": [
            "처음 3개 예측:  [7 2 1]\n",
            "훈련 정확도: 96.91%\n"
          ],
          "name": "stdout"
        }
      ]
    },
    {
      "cell_type": "code",
      "metadata": {
        "id": "puGq7BNCEZEG",
        "outputId": "27e96b86-27f7-464d-8b44-c3e2e18b799c",
        "colab": {
          "base_uri": "https://localhost:8080/",
          "height": 70
        }
      },
      "source": [
        "predictions = model.predict(X_test, verbose=0)\n",
        "print(predictions[0])\n",
        "np.argmax(predictions[0])"
      ],
      "execution_count": null,
      "outputs": [
        {
          "output_type": "stream",
          "text": [
            "[4.6001151e-05 2.0132641e-06 4.8604297e-06 3.5654681e-04 4.2177291e-07\n",
            " 7.5959247e-07 1.3910988e-08 9.9956030e-01 5.4383277e-06 2.3582705e-05]\n"
          ],
          "name": "stdout"
        },
        {
          "output_type": "execute_result",
          "data": {
            "text/plain": [
              "7"
            ]
          },
          "metadata": {
            "tags": []
          },
          "execution_count": 19
        }
      ]
    },
    {
      "cell_type": "code",
      "metadata": {
        "id": "6vOe5h6aFbpx"
      },
      "source": [
        "def plot_image(i, predictions_array, true_label, img):\n",
        "  predictions_array, true_label, img = predictions_array[i], true_label[i], img[i]\n",
        "  plt.grid(False)\n",
        "  plt.xticks([])\n",
        "  plt.yticks([])\n",
        "\n",
        "  #plt.imshow(img, cmap=plt.cm.binary)\n",
        "  plt.imshow(img.reshape(28, 28), cmap='Greys')\n",
        "\n",
        "  predicted_label = np.argmax(predictions_array)\n",
        "  if predicted_label == true_label:\n",
        "    color = 'blue'\n",
        "  else:\n",
        "    color = 'red'\n",
        "\n",
        "  plt.xlabel(\"{} {:2.0f}% ({})\".format(predicted_label,\n",
        "                                100*np.max(predictions_array),\n",
        "                                true_label),\n",
        "                                color=color)\n",
        "  \n",
        "\n",
        "  \n",
        "def plot_value_array(i, predictions_array, true_label):\n",
        "  predictions_array, true_label = predictions_array[i], true_label[i]\n",
        "  plt.grid(False)\n",
        "  plt.xticks([])\n",
        "  plt.yticks([])\n",
        "  thisplot = plt.bar(range(10), predictions_array, color=\"#777777\")\n",
        "  plt.ylim([0, 1])\n",
        "  predicted_label = np.argmax(predictions_array)\n",
        "\n",
        "  thisplot[predicted_label].set_color('red')\n",
        "  thisplot[true_label].set_color('blue')"
      ],
      "execution_count": null,
      "outputs": []
    },
    {
      "cell_type": "code",
      "metadata": {
        "id": "2LJ7NBcTFgTJ",
        "outputId": "ee43110f-b792-44b1-8468-90f971ad429e",
        "colab": {
          "base_uri": "https://localhost:8080/",
          "height": 203
        }
      },
      "source": [
        "i = 2582\n",
        "plt.figure(figsize=(6,3))\n",
        "plt.subplot(1,2,1)\n",
        "plot_image(i, predictions, y_test, X_test)\n",
        "plt.subplot(1,2,2)\n",
        "plot_value_array(i, predictions,  y_test)\n",
        "plt.show()"
      ],
      "execution_count": null,
      "outputs": [
        {
          "output_type": "display_data",
          "data": {
            "image/png": "[encoded data removed]",
            "text/plain": [
              "<Figure size 432x216 with 2 Axes>"
            ]
          },
          "metadata": {
            "tags": []
          }
        }
      ]
    },
    {
      "cell_type": "code",
      "metadata": {
        "id": "i511IPs1Gd2B",
        "outputId": "4f313c97-21e3-4b3b-da71-6c8fbba20515",
        "colab": {
          "base_uri": "https://localhost:8080/",
          "height": 244
        }
      },
      "source": [
        "num_rows = 5\n",
        "num_cols = 3\n",
        "num_images = num_rows*num_cols\n",
        "plt.figure(figsize=(2*2*num_cols, 2*num_rows))\n",
        "for i in range(num_images):\n",
        "  plt.subplot(num_rows, 2*num_cols, 2*i+1)\n",
        "  plot_image(i, predictions, y_test, X_test)\n",
        "  plt.subplot(num_rows, 2*num_cols, 2*i+2)\n",
        "  plot_value_array(i, predictions, y_test)\n",
        "plt.show()"
      ],
      "execution_count": null,
      "outputs": [
        {
          "output_type": "error",
          "ename": "NameError",
          "evalue": "ignored",
          "traceback": [
            "\u001b[0;31m---------------------------------------------------------------------------\u001b[0m",
            "\u001b[0;31mNameError\u001b[0m                                 Traceback (most recent call last)",
            "\u001b[0;32m<ipython-input-1-94e3bdd589fa>\u001b[0m in \u001b[0;36m<module>\u001b[0;34m()\u001b[0m\n\u001b[1;32m      2\u001b[0m \u001b[0mnum_cols\u001b[0m \u001b[0;34m=\u001b[0m \u001b[0;36m3\u001b[0m\u001b[0;34m\u001b[0m\u001b[0;34m\u001b[0m\u001b[0m\n\u001b[1;32m      3\u001b[0m \u001b[0mnum_images\u001b[0m \u001b[0;34m=\u001b[0m \u001b[0mnum_rows\u001b[0m\u001b[0;34m*\u001b[0m\u001b[0mnum_cols\u001b[0m\u001b[0;34m\u001b[0m\u001b[0;34m\u001b[0m\u001b[0m\n\u001b[0;32m----> 4\u001b[0;31m \u001b[0mplt\u001b[0m\u001b[0;34m.\u001b[0m\u001b[0mfigure\u001b[0m\u001b[0;34m(\u001b[0m\u001b[0mfigsize\u001b[0m\u001b[0;34m=\u001b[0m\u001b[0;34m(\u001b[0m\u001b[0;36m2\u001b[0m\u001b[0;34m*\u001b[0m\u001b[0;36m2\u001b[0m\u001b[0;34m*\u001b[0m\u001b[0mnum_cols\u001b[0m\u001b[0;34m,\u001b[0m \u001b[0;36m2\u001b[0m\u001b[0;34m*\u001b[0m\u001b[0mnum_rows\u001b[0m\u001b[0;34m)\u001b[0m\u001b[0;34m)\u001b[0m\u001b[0;34m\u001b[0m\u001b[0;34m\u001b[0m\u001b[0m\n\u001b[0m\u001b[1;32m      5\u001b[0m \u001b[0;32mfor\u001b[0m \u001b[0mi\u001b[0m \u001b[0;32min\u001b[0m \u001b[0mrange\u001b[0m\u001b[0;34m(\u001b[0m\u001b[0mnum_images\u001b[0m\u001b[0;34m)\u001b[0m\u001b[0;34m:\u001b[0m\u001b[0;34m\u001b[0m\u001b[0;34m\u001b[0m\u001b[0m\n\u001b[1;32m      6\u001b[0m   \u001b[0mplt\u001b[0m\u001b[0;34m.\u001b[0m\u001b[0msubplot\u001b[0m\u001b[0;34m(\u001b[0m\u001b[0mnum_rows\u001b[0m\u001b[0;34m,\u001b[0m \u001b[0;36m2\u001b[0m\u001b[0;34m*\u001b[0m\u001b[0mnum_cols\u001b[0m\u001b[0;34m,\u001b[0m \u001b[0;36m2\u001b[0m\u001b[0;34m*\u001b[0m\u001b[0mi\u001b[0m\u001b[0;34m+\u001b[0m\u001b[0;36m1\u001b[0m\u001b[0;34m)\u001b[0m\u001b[0;34m\u001b[0m\u001b[0;34m\u001b[0m\u001b[0m\n",
            "\u001b[0;31mNameError\u001b[0m: name 'plt' is not defined"
          ]
        }
      ]
    }
  ]
}